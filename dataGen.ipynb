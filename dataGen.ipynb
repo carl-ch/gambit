{
 "cells": [
  {
   "cell_type": "code",
   "execution_count": 111,
   "metadata": {},
   "outputs": [],
   "source": [
    "import numpy as np\n",
    "import pandas as pd\n",
    "import mnist\n",
    "import random\n",
    "import cv2\n",
    "import scipy.misc\n",
    "from PIL import Image\n",
    "import copy\n",
    "import matplotlib.pyplot as plt\n",
    "from mpl_toolkits.axes_grid1 import ImageGrid\n",
    "%matplotlib inline"
   ]
  },
  {
   "cell_type": "code",
   "execution_count": 2,
   "metadata": {},
   "outputs": [
    {
     "name": "stderr",
     "output_type": "stream",
     "text": [
      "Using TensorFlow backend.\n"
     ]
    }
   ],
   "source": [
    "import tensorflow as tf\n",
    "import keras\n",
    "from keras import layers\n",
    "from keras import optimizers\n",
    "from keras.layers import Input, Lambda, Add, Dense, Activation, ZeroPadding2D, BatchNormalization, Flatten, AlphaDropout\n",
    "from keras.layers import Conv2D, SpatialDropout2D, AveragePooling2D, MaxPooling2D, GlobalAveragePooling2D, GlobalMaxPooling2D, GlobalMaxPooling2D, Dropout\n",
    "from keras.models import Model, load_model\n",
    "from keras.callbacks import ModelCheckpoint, LearningRateScheduler, ReduceLROnPlateau\n",
    "from keras.utils import plot_model\n",
    "import keras.backend as K\n",
    "from keras.applications import resnet, resnet_v2, vgg16, vgg19\n",
    "from keras.utils import to_categorical\n",
    "import efficientnet.keras as eff"
   ]
  },
  {
   "cell_type": "code",
   "execution_count": 3,
   "metadata": {},
   "outputs": [],
   "source": [
    "test_image = mnist.test_images()\n",
    "test_gt = mnist.test_labels()\n",
    "test_gt = to_categorical(test_gt)"
   ]
  },
  {
   "cell_type": "code",
   "execution_count": 4,
   "metadata": {},
   "outputs": [],
   "source": [
    "# prepare data\n",
    "tests = mnist.test_images()\n",
    "x_test_norm = np.asarray([cv2.resize(a, (56, 56), interpolation = cv2.INTER_LINEAR) for a in tests]).reshape(10000, 56, 56, 1)\n",
    "y_test_norm = to_categorical(mnist.test_labels())"
   ]
  },
  {
   "cell_type": "code",
   "execution_count": 5,
   "metadata": {},
   "outputs": [],
   "source": [
    "def refresh():\n",
    "    global test_img\n",
    "    test_img = copy.deepcopy(test_image)\n",
    "    global b_to_w_ray\n",
    "    b_to_w_ray = copy.deepcopy(test_image)\n",
    "    global rand_ray\n",
    "    rand_ray = copy.deepcopy(test_image)\n",
    "    global w_to_b_ray \n",
    "    w_to_b_ray = copy.deepcopy(test_image)\n",
    "    global w_to_bline_ray\n",
    "    w_to_bline_ray = copy.deepcopy(test_image)\n",
    "    global placehold_img\n",
    "    placehold_img = copy.deepcopy(test_image)"
   ]
  },
  {
   "cell_type": "code",
   "execution_count": 6,
   "metadata": {},
   "outputs": [],
   "source": [
    "refresh()"
   ]
  },
  {
   "cell_type": "code",
   "execution_count": 7,
   "metadata": {},
   "outputs": [],
   "source": [
    "def showimages(modified_imgs):\n",
    "    fig = plt.figure(figsize=(10, 10))\n",
    "    grid = ImageGrid(fig, 111,\n",
    "                     nrows_ncols=(1, 2),\n",
    "                     axes_pad=0.1)\n",
    "    normal = [cv2.resize(aa, dsize=(56, 56), interpolation=cv2.INTER_AREA) for aa in test_image][0:1]\n",
    "    altered = modified_imgs[0:1]\n",
    "    result = [None]*(len(normal)+len(altered))\n",
    "    result[::2] = normal\n",
    "    result[1::2] = altered\n",
    "    for ax, im in zip(grid, result):\n",
    "        ax.imshow(im, cmap='gray')"
   ]
  },
  {
   "cell_type": "code",
   "execution_count": 8,
   "metadata": {},
   "outputs": [],
   "source": [
    "# outline version\n",
    "# rand k pixels white to black attack then resize \n",
    "\n",
    "def outline(k, test, model, new, show_img):\n",
    "    global w_to_bline_ray\n",
    "    if new == True:\n",
    "        w_to_bline_ray = copy.deepcopy(test_image)\n",
    "    for count in range(k):\n",
    "        i = 0\n",
    "        while i < len(test_img):\n",
    "            done = False\n",
    "            while done == False:\n",
    "                a = random.randrange(27)\n",
    "                b = random.randrange(27)\n",
    "                if test_img[i, a, b] >= 200:\n",
    "                    w_to_bline_ray[i, a, b] = (255 - (test_img[i, a, b]))/4\n",
    "                    done = True\n",
    "                    break\n",
    "            i += 1\n",
    "    \n",
    "    resized_WtoB_line = np.asarray([cv2.resize(a, dsize=(56, 56), interpolation=cv2.INTER_AREA) for a in w_to_bline_ray])\n",
    "    if show_img == True:\n",
    "        showimages(resized_WtoB_line)\n",
    "    if test == True:\n",
    "        result = model.evaluate(resized_WtoB_line.reshape(10000, 56, 56, 1), test_gt, verbose = 0)\n",
    "#         print(result)\n",
    "        return result"
   ]
  },
  {
   "cell_type": "code",
   "execution_count": 9,
   "metadata": {},
   "outputs": [],
   "source": [
    "# rand k pixels white to black attack then resize \n",
    "\n",
    "def randomInvert(k, test, model, new, show_img):\n",
    "    global rand_ray\n",
    "    if new == True:\n",
    "        rand_ray = copy.deepcopy(test_image)\n",
    "    for count in range(k):\n",
    "        i = 0\n",
    "        while i < len(test_img):\n",
    "            done = False \n",
    "            while done == False:\n",
    "                a = random.randrange(27)\n",
    "                b = random.randrange(27)\n",
    "                if test_img[i, a, b] >= 0 and test_img[i, a, b] <= 127:\n",
    "                    rand_ray[i, a, b] = int(255 - test_img[i, a, b]/1.25)\n",
    "                    done = True\n",
    "                    break\n",
    "                else:\n",
    "                    rand_ray[i, a, b] = int((255 - test_img[i, a, b])/1.25)\n",
    "                    done = True\n",
    "                    break\n",
    "            i += 1\n",
    "    \n",
    "    resized_rand = np.asarray([cv2.resize(a, dsize=(56, 56), interpolation=cv2.INTER_AREA) for a in rand_ray])\n",
    "    if show_img == True:\n",
    "        showimages(resized_rand)\n",
    "    if test == True:\n",
    "        result = model.evaluate(resized_rand.reshape(10000, 56, 56, 1), test_gt, verbose = 0)\n",
    "#         print(result)\n",
    "        return result"
   ]
  },
  {
   "cell_type": "code",
   "execution_count": 10,
   "metadata": {},
   "outputs": [],
   "source": [
    "# rand k pixels white to black attack then resize \n",
    "def whiteToBlack(k, test, model, new, show_img):\n",
    "    global w_to_b_ray\n",
    "    if new == True:\n",
    "        w_to_b_ray = copy.deepcopy(test_image)\n",
    "    for count in range(k):\n",
    "        i = 0\n",
    "        while i < len(test_img):\n",
    "            done = False\n",
    "            while done == False:\n",
    "                a = random.randrange(27)\n",
    "                b = random.randrange(27)\n",
    "                if test_img[i, a, b] >= 1:\n",
    "                    w_to_b_ray[i, a, b] = (255 - (test_img[i, a, b]))/4\n",
    "                    done = True\n",
    "                    break\n",
    "            i += 1\n",
    "    \n",
    "    resized_WtoB = np.asarray([cv2.resize(a, dsize=(56, 56), interpolation=cv2.INTER_AREA) for a in w_to_b_ray])\n",
    "    if show_img == True:\n",
    "        showimages(resized_WtoB)\n",
    "    if test == True:\n",
    "        result = model.evaluate(resized_WtoB.reshape(10000, 56, 56, 1), test_gt, verbose = 0)\n",
    "#         print(result)\n",
    "        return result"
   ]
  },
  {
   "cell_type": "code",
   "execution_count": 11,
   "metadata": {},
   "outputs": [],
   "source": [
    "# rand k pixels black to white attack then resize\n",
    "\n",
    "def blackToWhite(k, test, model, new, show_img):\n",
    "    global b_to_w_ray\n",
    "    if new == True:\n",
    "        b_to_w_ray = copy.deepcopy(test_image)\n",
    "    for count in range(k):\n",
    "        i = 0\n",
    "        while i < len(test_img):\n",
    "            done = False\n",
    "            while done == False:\n",
    "                a = random.randrange(27)\n",
    "                b = random.randrange(27)\n",
    "                if test_img[i, a, b] <= 99:\n",
    "                    b_to_w_ray[i, a, b] = 255 - (test_img[i, a, b])/4\n",
    "                    done = True\n",
    "                    break\n",
    "            i += 1\n",
    "\n",
    "    resized_BtoW = np.asarray([cv2.resize(a, dsize=(56, 56), interpolation=cv2.INTER_AREA) for a in b_to_w_ray])\n",
    "    if show_img == True:\n",
    "        showimages(resized_BtoW)\n",
    "    if test == True:\n",
    "        result = model.evaluate(resized_BtoW.reshape(10000, 56, 56, 1), test_gt, verbose = 0)\n",
    "#         print(result)\n",
    "        return result"
   ]
  },
  {
   "cell_type": "code",
   "execution_count": 12,
   "metadata": {},
   "outputs": [],
   "source": [
    "# rand k edge pixels to white attack then resize\n",
    "# excludes attacking one outlier image index 9051\n",
    "\n",
    "def check_horiz(k, a1, b):\n",
    "    check = 0\n",
    "    if test_img[k, a1, b] > 99 and test_img[k, a1+1, b] <= 99:\n",
    "        check = 1\n",
    "    elif test_img[k, a1, b] <= 99 and test_img[k, a1+1, b] > 99:\n",
    "        check = -1\n",
    "    elif test_img[k, a1, b] > 99 and test_img[k, a1-1, b] <= 99:\n",
    "        check = 1\n",
    "    elif test_img[k, a1, b] <= 99 and test_img[k, a1-1, b] > 99:\n",
    "        check = -1\n",
    "    return check\n",
    "    \n",
    "def check_vert(k, a, b1):\n",
    "    check = 0\n",
    "    if test_img[k, a, b1] > 99 and test_img[k, a, b1+1] <= 99:\n",
    "        check = 1\n",
    "    elif test_img[k, a, b1] <= 99 and test_img[k, a, b1+1] > 99:\n",
    "        check = -1\n",
    "    elif test_img[k, a, b1] > 99 and test_img[k, a, b1-1] <= 99:\n",
    "        check = 1\n",
    "    elif test_img[k, a, b1] <= 99 and test_img[k, a, b1-1] > 99:\n",
    "        check = -1\n",
    "    return check\n",
    "\n",
    "def check_diag(k, a1, b1):\n",
    "    check = 0\n",
    "    if test_img[k, a1, b1] > 99 and test_img[k, a1+1, b1+1] <= 99:\n",
    "        check = 1\n",
    "    elif test_img[k, a1, b1] <= 99 and test_img[k, a1+1, b1+1] > 99:\n",
    "        check = -1\n",
    "    elif test_img[k, a1, b1] > 99 and test_img[k, a1+1, b1-1] <= 99:\n",
    "        check = 1\n",
    "    elif test_img[k, a1, b1] <= 99 and test_img[k, a1+1, b1-1] > 99:\n",
    "        check = -1\n",
    "    elif test_img[k, a1, b1] > 99 and test_img[k, a1-1, b1-1] <= 99:\n",
    "        check = 1\n",
    "    elif test_img[k, a1, b1] <= 99 and test_img[k, a1-1, b1-1] > 99:\n",
    "        check = -1\n",
    "    elif test_img[k, a1, b1] > 99 and test_img[k, a1-1, b1+1] <= 99:\n",
    "        check = 1\n",
    "    elif test_img[k, a1, b1] <= 99 and test_img[k, a1-1, b1+1] > 99:\n",
    "        check = -1\n",
    "        \n",
    "    return check\n",
    "\n",
    "def edgeToAlter(k, test, model, new, show_img):\n",
    "    global placehold_img\n",
    "    if new == True:\n",
    "        placehold_img = copy.deepcopy(test_image)\n",
    "    for count in range(k):\n",
    "        i = 0\n",
    "        while i < len(test_img):\n",
    "            if i == 9051:\n",
    "                i = 9052\n",
    "            done = False\n",
    "            cc = 0\n",
    "            while done == False:\n",
    "                if cc > 5000:\n",
    "                    i = 10000\n",
    "                a = random.randrange(27)\n",
    "                b = random.randrange(27)\n",
    "                if check_vert(i, a, b) == -1 or check_horiz(i, a, b) == -1: \n",
    "                    placehold_img[i, a, b] = 255\n",
    "                    done = True\n",
    "                    break\n",
    "\n",
    "                elif check_diag(i, a, b) == -1:\n",
    "                    placehold_img[i, a, b] = 255\n",
    "                    done = True\n",
    "                    break\n",
    "\n",
    "                elif check_vert(i, a, b) == 1 or check_horiz(i, a, b) == 1:\n",
    "                    placehold_img[i, a, b] = 0\n",
    "                    done = True\n",
    "                    break\n",
    "\n",
    "                elif check_diag(i, a, b) == 1:\n",
    "                    placehold_img[i, a, b] = 0\n",
    "                    done = True\n",
    "                    break\n",
    "            i += 1\n",
    "            \n",
    "    resized_GtoA = np.asarray([cv2.resize(a, dsize=(56, 56), interpolation=cv2.INTER_AREA) for a in placehold_img]).reshape(10000, 56, 56)\n",
    "    if show_img == True:\n",
    "        showimages(resized_GtoA)\n",
    "    if test == True:\n",
    "        result = model.evaluate(resized_GtoA.reshape(10000, 56, 56, 1), test_gt, verbose = 0)\n",
    "#         print(result)\n",
    "        return result"
   ]
  },
  {
   "cell_type": "code",
   "execution_count": 13,
   "metadata": {},
   "outputs": [],
   "source": [
    "resnet = load_model('models/resnet_99.h5')\n",
    "resnetv2 = load_model('models/resnetv2_99.h5')\n",
    "resnet101 = load_model('models/resnet101_991.h5')\n",
    "resnet152 = load_model('models/resnet152_96.h5')\n",
    "VGG19 = load_model('models/VGG19_9934.h5')\n",
    "FCN = load_model('models/FCN.h5')\n",
    "efficientnet = load_model('models/efficientnetb1_986.h5')"
   ]
  },
  {
   "cell_type": "code",
   "execution_count": null,
   "metadata": {},
   "outputs": [],
   "source": [
    "resnet18 = "
   ]
  },
  {
   "cell_type": "code",
   "execution_count": 63,
   "metadata": {},
   "outputs": [],
   "source": [
    "accs = []\n",
    "resnet_accs = []\n",
    "resnetv2_accs = []\n",
    "resnet101_accs = []\n",
    "resnet18_accs = []\n",
    "resnet34_accs = []\n",
    "VGG19_accs = []\n",
    "FCN_accs = []\n",
    "efficientnet_accs = []\n",
    "def evaluateModels(attack, end = 1, skip = 1, models = ''):\n",
    "    count = int(end/skip)\n",
    "    global resnet34_accs, resnet_accs, resnetv2_accs, resnet101_accs, resnet18_accs, VGG19_accs, FCN_accs, efficientnet_accs, accs, attackcounts\n",
    "    attackcounts = [(c)*skip for c in range(count+1)]\n",
    "    print(attackcounts)\n",
    "    if models == 'all':\n",
    "        for i in range(count):\n",
    "#             resnet_accs.append(attack(skip, test = True, model = resnet, new = False, show_img = False)[1]*100)\n",
    "#             resnetv2_accs.append(attack(0, test = True, model = resnetv2, new = False, show_img = False)[1]*100)\n",
    "#             resnet101_accs.append(attack(0, test = True, model = resnet101, new = False, show_img = False)[1]*100)\n",
    "            resnet18_accs.append(attack(skip, test = True, model = resnet18, new = False, show_img = False)[1]*100)\n",
    "            resnet34_accs.append(attack(0, test = True, model = resnet34, new = False, show_img = False)[1]*100)\n",
    "#             VGG19_accs.append(attack(0, test = True, model = VGG19, new = False, show_img = False)[1]*100)\n",
    "#             FCN_accs.append(attack(0, test = True, model = FCN, new = False, show_img = False)[1]*100)\n",
    "#             efficientnet_accs.append(attack(0, test = True, model = efficientnet, new = False, show_img = False)[1]*100)\n",
    "    else:\n",
    "        for i in range(count):\n",
    "            accs.append(attack(skip, test = True, model = models, new = False, show_img = False)[1]*100)"
   ]
  },
  {
   "cell_type": "code",
   "execution_count": 64,
   "metadata": {},
   "outputs": [
    {
     "name": "stdout",
     "output_type": "stream",
     "text": [
      "[0, 10, 20, 30, 40, 50, 60, 70, 80, 90, 100, 110, 120, 130, 140, 150, 160, 170, 180, 190, 200]\n",
      "0.05\n",
      "[0, 10, 20, 30, 40, 50, 60, 70, 80, 90, 100, 110, 120, 130, 140, 150, 160, 170, 180, 190, 200]\n",
      "0.1\n",
      "[0, 10, 20, 30, 40, 50, 60, 70, 80, 90, 100, 110, 120, 130, 140, 150, 160, 170, 180, 190, 200]\n",
      "0.15\n",
      "[0, 10, 20, 30, 40, 50, 60, 70, 80, 90, 100, 110, 120, 130, 140, 150, 160, 170, 180, 190, 200]\n",
      "0.2\n",
      "[0, 10, 20, 30, 40, 50, 60, 70, 80, 90, 100, 110, 120, 130, 140, 150, 160, 170, 180, 190, 200]\n",
      "0.25\n"
     ]
    }
   ],
   "source": [
    "for i in range(1):\n",
    "    refresh()\n",
    "    evaluateModels(whiteToBlack, end = 200, skip = 10, models='all')\n",
    "    print((i*5+1)/20)\n",
    "    evaluateModels(blackToWhite, end = 200, skip = 10, models='all')\n",
    "    print((i*5+2)/20)\n",
    "    evaluateModels(outline, end = 200, skip = 10, models='all')\n",
    "    print((i*5+3)/20)\n",
    "    evaluateModels(randomInvert, end = 200, skip = 10, models='all')\n",
    "    print((i*5+4)/20)\n",
    "    evaluateModels(edgeToAlter, end = 200, skip = 10, models='all')\n",
    "    print((i*5+5)/20)"
   ]
  },
  {
   "cell_type": "code",
   "execution_count": 33,
   "metadata": {},
   "outputs": [],
   "source": [
    "resnet34 = load_model('models/resnet34_99.h5')\n",
    "resnet18 = load_model('models/resnet18_991.h5')"
   ]
  },
  {
   "cell_type": "code",
   "execution_count": 59,
   "metadata": {},
   "outputs": [
    {
     "name": "stdout",
     "output_type": "stream",
     "text": [
      "10000/10000 [==============================] - 4s 374us/step\n"
     ]
    },
    {
     "data": {
      "text/plain": [
       "[0.02852065611924045, 0.9904000163078308]"
      ]
     },
     "execution_count": 59,
     "metadata": {},
     "output_type": "execute_result"
    }
   ],
   "source": [
    "resnet34.evaluate(x_test_norm, y_test_norm)"
   ]
  },
  {
   "cell_type": "code",
   "execution_count": 58,
   "metadata": {},
   "outputs": [
    {
     "data": {
      "text/plain": [
       "[0.11326289982609451, 0.9656999707221985]"
      ]
     },
     "execution_count": 58,
     "metadata": {},
     "output_type": "execute_result"
    },
    {
     "data": {
      "image/png": "[encoded data removed]",
      "text/plain": [
       "<Figure size 720x720 with 4 Axes>"
      ]
     },
     "metadata": {
      "needs_background": "light"
     },
     "output_type": "display_data"
    }
   ],
   "source": [
    "randomInvert(0, test = True, model=resnet34, new = True, show_img = True)"
   ]
  },
  {
   "cell_type": "code",
   "execution_count": 18,
   "metadata": {},
   "outputs": [
    {
     "name": "stdout",
     "output_type": "stream",
     "text": [
      "[0, 10, 20, 30, 40, 50, 60, 70, 80, 90, 100, 110, 120, 130, 140, 150, 160, 170, 180, 190, 200]\n",
      "0.05\n",
      "[0, 10, 20, 30, 40, 50, 60, 70, 80, 90, 100, 110, 120, 130, 140, 150, 160, 170, 180, 190, 200]\n",
      "0.1\n",
      "[0, 10, 20, 30, 40, 50, 60, 70, 80, 90, 100, 110, 120, 130, 140, 150, 160, 170, 180, 190, 200]\n",
      "0.15\n",
      "[0, 10, 20, 30, 40, 50, 60, 70, 80, 90, 100, 110, 120, 130, 140, 150, 160, 170, 180, 190, 200]\n",
      "0.2\n",
      "[0, 10, 20, 30, 40, 50, 60, 70, 80, 90, 100, 110, 120, 130, 140, 150, 160, 170, 180, 190, 200]\n",
      "0.25\n"
     ]
    }
   ],
   "source": [
    "for i in range(1):\n",
    "    refresh()\n",
    "    evaluateModels(whiteToBlack, end = 200, skip = 10, models=resnet18)\n",
    "    print((i*5+1)/20)\n",
    "    evaluateModels(blackToWhite, end = 200, skip = 10, models=resnet18)\n",
    "    print((i*5+2)/20)\n",
    "    evaluateModels(outline, end = 200, skip = 10, models=resnet18)\n",
    "    print((i*5+3)/20)\n",
    "    evaluateModels(randomInvert, end = 200, skip = 10, models=resnet18)\n",
    "    print((i*5+4)/20)\n",
    "    evaluateModels(edgeToAlter, end = 200, skip = 10, models=resnet18)\n",
    "    print((i*5+5)/20)"
   ]
  },
  {
   "cell_type": "code",
   "execution_count": 65,
   "metadata": {},
   "outputs": [],
   "source": [
    "resnet18_accs1 = np.array(resnet18_accs)\n",
    "resnet34_accs1 = np.array(resnet34_accs)"
   ]
  },
  {
   "cell_type": "code",
   "execution_count": 66,
   "metadata": {},
   "outputs": [],
   "source": [
    "resnet18_accs11 = np.zeros((5,20))\n",
    "resnet34_accs11 = np.zeros((5,20))\n",
    "for i in range(5):\n",
    "    resnet18_accs11[i] = resnet18_accs1[i*20:(i+1)*20]\n",
    "    resnet34_accs11[i] = resnet34_accs1[i*20:(i+1)*20]"
   ]
  },
  {
   "cell_type": "code",
   "execution_count": 53,
   "metadata": {},
   "outputs": [],
   "source": [
    "resnet_accs1 = copy.deepcopy(resnet_accs)\n",
    "resnetv2_accs1 = copy.deepcopy(resnetv2_accs)\n",
    "resnet101_accs1 = copy.deepcopy(resnet101_accs)\n",
    "resnet18_accs1 = copy.deepcopy(resnet18_accs)\n",
    "VGG19_accs1 = copy.deepcopy(VGG19_accs)\n",
    "FCN_accs1 = copy.deepcopy(FCN_accs)\n",
    "efficientnet_accs1 = copy.deepcopy(efficientnet_accs)"
   ]
  },
  {
   "cell_type": "code",
   "execution_count": 64,
   "metadata": {},
   "outputs": [],
   "source": [
    "resnetaccs = np.array(efficientnet_accs)\n",
    "resnetaccs1 = np.zeros((5, 20))\n",
    "resnetaccs2 = np.zeros((5, 20))\n",
    "resnetaccs3 = np.zeros((5, 20))\n",
    "resnetaccs4 = np.zeros((5, 20))\n",
    "efficientnetaccsfinal = np.zeros((5, 20))\n",
    "for i in range(5):\n",
    "    resnetaccs1[i] = resnetaccs[i*20:(i+1)*20]\n",
    "    resnetaccs2[i] = resnetaccs[(i+5)*20:((i+5)+1)*20]\n",
    "    resnetaccs3[i] = resnetaccs[(i+10)*20:((i+10)+1)*20]\n",
    "    resnetaccs4[i] = resnetaccs[(i+15)*20:((i+15)+1)*20]\n",
    "for i in range(5):\n",
    "    for j in range(20):\n",
    "        efficientnetaccsfinal[i][j] = (resnetaccs1[i][j] + resnetaccs2[i][j] + resnetaccs3[i][j] + resnetaccs4[i][j])/4"
   ]
  },
  {
   "cell_type": "code",
   "execution_count": 51,
   "metadata": {},
   "outputs": [
    {
     "name": "stdout",
     "output_type": "stream",
     "text": [
      "[96.56999707221985, 96.56999707221985, 96.56999707221985, 96.56999707221985, 96.56999707221985, 96.56999707221985, 96.56999707221985, 96.56999707221985, 96.56999707221985, 96.56999707221985, 96.56999707221985, 96.56999707221985, 96.56999707221985, 96.56999707221985, 96.56999707221985, 96.56999707221985, 96.56999707221985, 96.56999707221985, 96.56999707221985, 96.56999707221985, 96.56999707221985, 96.56999707221985, 96.56999707221985, 96.56999707221985, 96.56999707221985, 96.56999707221985, 96.56999707221985, 96.56999707221985, 96.56999707221985, 96.56999707221985, 96.56999707221985, 96.56999707221985, 96.56999707221985, 96.56999707221985, 96.56999707221985, 96.56999707221985, 96.56999707221985, 96.56999707221985, 96.56999707221985, 96.56999707221985, 96.56999707221985, 96.56999707221985, 96.56999707221985, 96.56999707221985, 96.56999707221985, 96.56999707221985, 96.56999707221985, 96.56999707221985, 96.56999707221985, 96.56999707221985, 96.56999707221985, 96.56999707221985, 96.56999707221985, 96.56999707221985, 96.56999707221985, 96.56999707221985, 96.56999707221985, 96.56999707221985, 96.56999707221985, 96.56999707221985, 96.56999707221985, 96.56999707221985, 96.56999707221985, 96.56999707221985, 96.56999707221985, 96.56999707221985, 96.56999707221985, 96.56999707221985, 96.56999707221985, 96.56999707221985, 96.56999707221985, 96.56999707221985, 96.56999707221985, 96.56999707221985, 96.56999707221985, 96.56999707221985, 96.56999707221985, 96.56999707221985, 96.56999707221985, 96.56999707221985, 96.56999707221985, 96.56999707221985, 96.56999707221985, 96.56999707221985, 96.56999707221985, 96.56999707221985, 96.56999707221985, 96.56999707221985, 96.56999707221985, 96.56999707221985, 96.56999707221985, 96.56999707221985, 96.56999707221985, 96.56999707221985, 96.56999707221985, 96.56999707221985, 96.56999707221985, 96.56999707221985, 96.56999707221985, 96.56999707221985]\n"
     ]
    }
   ],
   "source": [
    "print(resnet34_accs)"
   ]
  },
  {
   "cell_type": "code",
   "execution_count": 58,
   "metadata": {},
   "outputs": [
    {
     "data": {
      "image/png": "[encoded data removed]",
      "text/plain": [
       "<Figure size 432x288 with 1 Axes>"
      ]
     },
     "metadata": {
      "needs_background": "light"
     },
     "output_type": "display_data"
    }
   ],
   "source": [
    "b = np.insert(copy.deepcopy(accs1[0]), 0, 99.1)\n",
    "plt.plot(attackcounts, np.insert(copy.deepcopy(accs1[0]), 0, 99.1), label = 'Resnet18')\n",
    "plt.title('whiteToBlack')\n",
    "plt.axis([0, 200, 0, 100])\n",
    "plt.ylabel('Accuracy')\n",
    "plt.xlabel('# of Attacks')\n",
    "plt.legend()\n",
    "plt.show()"
   ]
  },
  {
   "cell_type": "code",
   "execution_count": 22,
   "metadata": {},
   "outputs": [],
   "source": [
    "skip = 10\n",
    "count = 20\n",
    "attackcounts = [(c)*skip for c in range(count+1)]"
   ]
  },
  {
   "cell_type": "code",
   "execution_count": null,
   "metadata": {},
   "outputs": [],
   "source": [
    "whiteToBlack()"
   ]
  },
  {
   "cell_type": "code",
   "execution_count": 55,
   "metadata": {},
   "outputs": [
    {
     "name": "stdout",
     "output_type": "stream",
     "text": [
      "400\n",
      "400\n",
      "400\n",
      "400\n",
      "0\n",
      "400\n",
      "400\n"
     ]
    }
   ],
   "source": [
    "for a in graph:\n",
    "    print(len(a))"
   ]
  },
  {
   "cell_type": "code",
   "execution_count": 54,
   "metadata": {},
   "outputs": [],
   "source": [
    "resnets = [resnet_accs, resnet101_accs, resnet152_accs]\n",
    "graph = [FCN_accs, resnet_accs, resnetv2_accs, resnet101_accs, resnet152_accs, VGG19_accs, efficientnet_accs]"
   ]
  },
  {
   "cell_type": "code",
   "execution_count": 21,
   "metadata": {},
   "outputs": [],
   "source": [
    "np.savetxt('data/resnet34accs.csv', accs1, delimiter=',', fmt='%s')"
   ]
  },
  {
   "cell_type": "code",
   "execution_count": 40,
   "metadata": {},
   "outputs": [],
   "source": [
    "resnetaccsfinal = np.genfromtxt('data/resnetaccs.csv', delimiter=',')\n",
    "resnet101accsfinal = np.genfromtxt('data/resnet101accs.csv', delimiter=',')"
   ]
  },
  {
   "cell_type": "code",
   "execution_count": 45,
   "metadata": {},
   "outputs": [
    {
     "data": {
      "text/plain": [
       "(5, 20)"
      ]
     },
     "execution_count": 45,
     "metadata": {},
     "output_type": "execute_result"
    }
   ],
   "source": [
    "resnet18_accs11.shape"
   ]
  },
  {
   "cell_type": "code",
   "execution_count": 30,
   "metadata": {},
   "outputs": [],
   "source": [
    "resnets1 = copy.deepcopy(resnets)\n",
    "graph1 = copy.deepcopy(graph)"
   ]
  },
  {
   "cell_type": "code",
   "execution_count": null,
   "metadata": {},
   "outputs": [],
   "source": [
    "for a in resnets:\n",
    "    a.insert(0, 99.2)"
   ]
  },
  {
   "cell_type": "code",
   "execution_count": 73,
   "metadata": {},
   "outputs": [
    {
     "data": {
      "image/png": "[encoded data removed]",
      "text/plain": [
       "<Figure size 432x288 with 1 Axes>"
      ]
     },
     "metadata": {
      "needs_background": "light"
     },
     "output_type": "display_data"
    }
   ],
   "source": [
    "n = 4\n",
    "\n",
    "plt.plot(attackcounts, np.insert(copy.deepcopy(resnet18_accs11[n]), 0, 99.1), label = 'Resnet18')\n",
    "plt.plot(attackcounts, np.insert(copy.deepcopy(resnet34_accs11[n]), 0, 99.1), label = 'Resnet34')\n",
    "plt.plot(attackcounts, np.insert(copy.deepcopy(resnetaccsfinal[n]), 0, 99.2), label = 'Resnet50')\n",
    "plt.plot(attackcounts, np.insert(copy.deepcopy(resnet101accsfinal[n]), 0, 99.1), label = 'Resnet101')\n",
    "# plt.plot(attackcounts, resnet152_accs, label = 'Resnet152')\n",
    "# plt.plot(attackcounts, np.insert(copy.deepcopy(resnetv2accsfinal[n]), 0, 99.3), label = 'Resnet50V2')\n",
    "# plt.plot(attackcounts, np.insert(copy.deepcopy(VGG19accsfinal[n]), 0, 99.34), label = 'VGG19')\n",
    "# plt.plot(attackcounts, np.insert(copy.deepcopy(efficientnetaccsfinal[n]), 0, 98.6), label = 'EfficientNet')\n",
    "# plt.plot(attackcounts, np.insert(copy.deepcopy(FCNaccsfinal[n]), 0, 97), label = 'FCN')\n",
    "plt.title('Edge to Alter')\n",
    "plt.axis([0, 200, 0, 100])\n",
    "plt.ylabel('Accuracy')\n",
    "plt.xlabel('# of Attacks')\n",
    "plt.legend()\n",
    "plt.show()"
   ]
  },
  {
   "cell_type": "code",
   "execution_count": 15,
   "metadata": {
    "collapsed": true,
    "jupyter": {
     "outputs_hidden": true
    }
   },
   "outputs": [
    {
     "name": "stdout",
     "output_type": "stream",
     "text": [
      "[0, 10, 20, 30, 40, 50, 60, 70, 80, 90, 100, 110, 120, 130, 140, 150, 160, 170, 180, 190, 200]\n",
      "[0.06261602610524278, 0.9807999730110168]\n",
      "[0.03241317950596567, 0.9889000058174133]\n",
      "[0.055135565650463104, 0.9833999872207642]\n",
      "[1.3525884284824132, 0.8342999815940857]\n",
      "[0.033446202831001935, 0.9911999702453613]\n",
      "[0.7108645027186256, 0.948199987411499]\n",
      "[0.07535707835364155, 0.9761000275611877]\n",
      "[0.13606478706113995, 0.9563000202178955]\n",
      "[0.06413170176104177, 0.9793999791145325]\n",
      "[0.07567956470437348, 0.9745000004768372]\n",
      "[1.2987337650716304, 0.807200014591217]\n",
      "[0.04691779745010717, 0.9868000149726868]\n",
      "[1.3305408388158306, 0.9275000095367432]\n",
      "[0.1075284947739914, 0.9652000069618225]\n",
      "[0.26096734066456556, 0.9207000136375427]\n",
      "[0.12624066723659635, 0.9614999890327454]\n",
      "[0.11974682586081326, 0.9607999920845032]\n",
      "[1.3412903281211852, 0.7605999708175659]\n",
      "[0.06567123221796937, 0.9818000197410583]\n",
      "[1.9661340134121477, 0.902999997138977]\n",
      "[0.17469113121014088, 0.9466000199317932]\n",
      "[0.4188806211292744, 0.8774999976158142]\n",
      "[0.21037884538769722, 0.9334999918937683]\n",
      "[0.1782981948159635, 0.9451000094413757]\n",
      "[1.3968950595855714, 0.7111999988555908]\n",
      "[0.09020059932877775, 0.9746999740600586]\n",
      "[2.4678355952970685, 0.8791000247001648]\n",
      "[0.28007668448537587, 0.9215999841690063]\n",
      "[0.5872516277432441, 0.8435999751091003]\n",
      "[0.3209027317464352, 0.9004999995231628]\n",
      "[0.24832546399533748, 0.9222999811172485]\n",
      "[1.5020314846038818, 0.6696000099182129]\n",
      "[0.11907192166633904, 0.967199981212616]\n",
      "[3.460353592604399, 0.8450999855995178]\n",
      "[0.412905579456687, 0.891700029373169]\n",
      "[0.745164333152771, 0.8116999864578247]\n",
      "[0.4495046395421028, 0.8629999756813049]\n",
      "[0.33750637773126363, 0.8967000246047974]\n",
      "[1.6115641152381897, 0.630299985408783]\n",
      "[0.15992475093137473, 0.954800009727478]\n",
      "[4.355969843810796, 0.8133000135421753]\n",
      "[0.5318876762032508, 0.8662999868392944]\n",
      "[0.89977265625, 0.7820000052452087]\n",
      "[0.5651367433547974, 0.8317000269889832]\n",
      "[0.4424193740576506, 0.8662999868392944]\n",
      "[1.7127541515350342, 0.597100019454956]\n",
      "[0.19955773167870938, 0.9431999921798706]\n",
      "[5.250728887587786, 0.777400016784668]\n",
      "[0.6432248384475708, 0.8424000144004822]\n",
      "[1.0408704510211944, 0.7523999810218811]\n",
      "[0.677499385046959, 0.7990000247955322]\n",
      "[0.5570838775157928, 0.8339999914169312]\n",
      "[1.8642734550476074, 0.5652999877929688]\n",
      "[0.2552434276852757, 0.9276999831199646]\n",
      "[6.3927311869680885, 0.7455000281333923]\n",
      "[0.7623817978858948, 0.815500020980835]\n",
      "[1.1648713752746582, 0.7218000292778015]\n",
      "[0.7846043957710266, 0.7710000276565552]\n",
      "[0.6745427399635315, 0.8022000193595886]\n",
      "[1.9879632184982299, 0.539900004863739]\n",
      "[0.30925529361367227, 0.9132000207901001]\n",
      "[7.368374704766273, 0.7113999724388123]\n",
      "[0.8770386164903641, 0.7878999710083008]\n",
      "[1.289943206501007, 0.6916000247001648]\n",
      "[0.8910101036071777, 0.7408000230789185]\n",
      "[0.8033678964853287, 0.7678999900817871]\n",
      "[2.1283654804229735, 0.5062999725341797]\n",
      "[0.3607653061389923, 0.8949999809265137]\n",
      "[8.738341771221162, 0.6825000047683716]\n",
      "[0.9980657910108566, 0.7620999813079834]\n",
      "[1.4069137225151063, 0.6642000079154968]\n",
      "[0.9881771790504456, 0.7128999829292297]\n",
      "[0.9531630712509155, 0.7311999797821045]\n",
      "[2.2427114772796632, 0.47940000891685486]\n",
      "[0.4146367775917053, 0.882099986076355]\n",
      "[9.77458498325348, 0.6470000147819519]\n",
      "[1.1035932988643646, 0.734499990940094]\n",
      "[1.5324714730262756, 0.6352999806404114]\n",
      "[1.0961173231124879, 0.6826000213623047]\n",
      "[1.1276591018676758, 0.6901000142097473]\n",
      "[2.3811601753234863, 0.45419999957084656]\n",
      "[0.47802229890823367, 0.8666999936103821]\n",
      "[10.864431553077697, 0.6161999702453613]\n",
      "[1.2272533521175384, 0.7034000158309937]\n",
      "[1.6674132688522338, 0.6079000234603882]\n",
      "[1.1860196695327758, 0.6577000021934509]\n",
      "[1.2937110555648803, 0.6575000286102295]\n",
      "[2.487370142364502, 0.43650001287460327]\n",
      "[0.5323745648860931, 0.8495000004768372]\n",
      "[12.227292340660096, 0.5857999920845032]\n",
      "[1.3062249433517457, 0.6814000010490417]\n",
      "[1.7746688631057739, 0.5870000123977661]\n",
      "[1.2765022967338562, 0.6295999884605408]\n",
      "[1.4681381496429444, 0.6254000067710876]\n",
      "[2.6041912029266356, 0.4180000126361847]\n",
      "[0.5858651356697082, 0.8331000208854675]\n",
      "[13.268608708190918, 0.5604000091552734]\n",
      "[1.4015486639022827, 0.6535000205039978]\n",
      "[1.8997244592666627, 0.552299976348877]\n",
      "[1.37149736700058, 0.5982000231742859]\n",
      "[1.6477551645278932, 0.5946000218391418]\n",
      "[2.6998101650238038, 0.3977999985218048]\n",
      "[0.6426408785581589, 0.8149999976158142]\n",
      "[14.627877431869507, 0.5346999764442444]\n",
      "[1.5042476810455323, 0.6276000142097473]\n",
      "[2.0214958850860594, 0.5273000001907349]\n",
      "[1.4699904790878295, 0.574999988079071]\n",
      "[1.8591934507369996, 0.5533999800682068]\n",
      "[2.7932396808624267, 0.3862000107765198]\n",
      "[0.6950092549324036, 0.7989000082015991]\n",
      "[15.765246480941773, 0.49950000643730164]\n",
      "[1.5870519155502318, 0.6029999852180481]\n",
      "[2.126971797180176, 0.5073999762535095]\n",
      "[1.5610472778320312, 0.5498999953269958]\n",
      "[2.0409693548202514, 0.5246000289916992]\n",
      "[2.887749568939209, 0.3709999918937683]\n",
      "[0.7438955884456635, 0.7864999771118164]\n",
      "[16.868439863586424, 0.46799999475479126]\n",
      "[1.6693607390403749, 0.583299994468689]\n",
      "[2.233735282325745, 0.48590001463890076]\n",
      "[1.6402485416412353, 0.5288000106811523]\n",
      "[2.231517361831665, 0.4997999966144562]\n",
      "[2.9606594120025633, 0.3598000109195709]\n",
      "[0.7910479164600372, 0.7692000269889832]\n",
      "[17.69937712173462, 0.4472000002861023]\n",
      "[1.727337240600586, 0.5656999945640564]\n",
      "[2.346131995010376, 0.46480000019073486]\n",
      "[1.7316381603240967, 0.5077000260353088]\n",
      "[2.422842858886719, 0.4699000120162964]\n",
      "[3.0505537662506104, 0.350600004196167]\n",
      "[0.8290588684082031, 0.7595000267028809]\n",
      "[18.247944635772704, 0.42879998683929443]\n",
      "[1.8102689535140992, 0.5432999730110168]\n",
      "[2.457042300415039, 0.4438999891281128]\n",
      "[1.81339063911438, 0.48829999566078186]\n",
      "[2.625060231590271, 0.44440001249313354]\n",
      "[3.144386540222168, 0.33480000495910645]\n",
      "[0.8762287180900574, 0.7455999851226807]\n",
      "[19.200556970977782, 0.40380001068115234]\n",
      "[1.8832155548095704, 0.527999997138977]\n"
     ]
    }
   ],
   "source": [
    "evaluateModels(whiteToBlack, end = 200, skip = 10, models='all')"
   ]
  },
  {
   "cell_type": "code",
   "execution_count": 33,
   "metadata": {
    "collapsed": true,
    "jupyter": {
     "outputs_hidden": true
    }
   },
   "outputs": [
    {
     "name": "stdout",
     "output_type": "stream",
     "text": [
      "[0, 10, 20, 30, 40, 50, 60, 70, 80, 90, 100, 110, 120, 130, 140, 150, 160, 170, 180, 190, 200]\n",
      "[1.1007940278470516, 0.8295999765396118]\n",
      "[1.0949987849235534, 0.769599974155426]\n",
      "[1.2737878571987151, 0.7041000127792358]\n",
      "[1.4443100688934327, 0.6477000117301941]\n",
      "[1.6317837703704834, 0.5983999967575073]\n",
      "[1.8413348850250244, 0.5533999800682068]\n",
      "[2.022973122024536, 0.5163000226020813]\n",
      "[2.1779973300933837, 0.4846000075340271]\n",
      "[2.337227925491333, 0.4535999894142151]\n",
      "[2.4724591796875, 0.42800000309944153]\n",
      "[2.5916044361114503, 0.4074999988079071]\n",
      "[2.6921764511108397, 0.39070001244544983]\n",
      "[2.780931555557251, 0.37529999017715454]\n",
      "[2.8635406978607176, 0.36329999566078186]\n",
      "[2.935061922454834, 0.3476000130176544]\n",
      "[3.01570588722229, 0.3328999876976013]\n",
      "[3.06406227684021, 0.3224000036716461]\n",
      "[3.110578666305542, 0.31369999051094055]\n",
      "[3.1630643836975096, 0.30649998784065247]\n",
      "[3.2029181118011474, 0.301800012588501]\n"
     ]
    },
    {
     "data": {
      "image/png": "[encoded data removed]",
      "text/plain": [
       "<Figure size 432x288 with 1 Axes>"
      ]
     },
     "metadata": {
      "needs_background": "light"
     },
     "output_type": "display_data"
    },
    {
     "name": "stdout",
     "output_type": "stream",
     "text": [
      "[99.2, 82.95999765396118, 76.9599974155426, 70.41000127792358, 64.77000117301941, 59.83999967575073, 55.33999800682068, 51.63000226020813, 48.46000075340271, 45.35999894142151, 42.80000030994415, 40.74999988079071, 39.07000124454498, 37.529999017715454, 36.329999566078186, 34.76000130176544, 33.28999876976013, 32.24000036716461, 31.369999051094055, 30.649998784065247, 30.180001258850098]\n",
      "[0, 10, 20, 30, 40, 50, 60, 70, 80, 90, 100, 110, 120, 130, 140, 150, 160, 170, 180, 190, 200]\n",
      "[1.3750338330090046, 0.8313000202178955]\n",
      "[1.3039650304555892, 0.8076000213623047]\n",
      "[1.3330065351963043, 0.7616999745368958]\n",
      "[1.4087425996780396, 0.715399980545044]\n",
      "[1.508043268585205, 0.6690999865531921]\n",
      "[1.6270649307250977, 0.6312999725341797]\n",
      "[1.7398996662139892, 0.5950999855995178]\n",
      "[1.8683714740753175, 0.5622000098228455]\n",
      "[2.0031409301757814, 0.531499981880188]\n",
      "[2.124831280899048, 0.5059999823570251]\n",
      "[2.2428817234039307, 0.4796999990940094]\n"
     ]
    },
    {
     "ename": "KeyboardInterrupt",
     "evalue": "",
     "output_type": "error",
     "traceback": [
      "\u001b[1;31m---------------------------------------------------------------------------\u001b[0m",
      "\u001b[1;31mKeyboardInterrupt\u001b[0m                         Traceback (most recent call last)",
      "\u001b[1;32m<ipython-input-33-95ab05c72e88>\u001b[0m in \u001b[0;36m<module>\u001b[1;34m\u001b[0m\n\u001b[0;32m      2\u001b[0m \u001b[0mmodel\u001b[0m \u001b[1;33m=\u001b[0m \u001b[0mload_model\u001b[0m\u001b[1;33m(\u001b[0m\u001b[1;34m'models/resnet152_96.h5'\u001b[0m\u001b[1;33m)\u001b[0m\u001b[1;33m\u001b[0m\u001b[1;33m\u001b[0m\u001b[0m\n\u001b[0;32m      3\u001b[0m \u001b[0mprint\u001b[0m\u001b[1;33m(\u001b[0m\u001b[0mcreateGraph\u001b[0m\u001b[1;33m(\u001b[0m\u001b[0moutline\u001b[0m\u001b[1;33m,\u001b[0m \u001b[0mend\u001b[0m \u001b[1;33m=\u001b[0m \u001b[1;36m200\u001b[0m\u001b[1;33m,\u001b[0m \u001b[0mskip\u001b[0m \u001b[1;33m=\u001b[0m \u001b[1;36m10\u001b[0m\u001b[1;33m)\u001b[0m\u001b[1;33m)\u001b[0m\u001b[1;33m\u001b[0m\u001b[1;33m\u001b[0m\u001b[0m\n\u001b[1;32m----> 4\u001b[1;33m \u001b[0mprint\u001b[0m\u001b[1;33m(\u001b[0m\u001b[0mcreateGraph\u001b[0m\u001b[1;33m(\u001b[0m\u001b[0mwhiteToBlack\u001b[0m\u001b[1;33m,\u001b[0m \u001b[0mend\u001b[0m \u001b[1;33m=\u001b[0m \u001b[1;36m200\u001b[0m\u001b[1;33m,\u001b[0m \u001b[0mskip\u001b[0m \u001b[1;33m=\u001b[0m \u001b[1;36m10\u001b[0m\u001b[1;33m)\u001b[0m\u001b[1;33m)\u001b[0m\u001b[1;33m\u001b[0m\u001b[1;33m\u001b[0m\u001b[0m\n\u001b[0m\u001b[0;32m      5\u001b[0m \u001b[0mprint\u001b[0m\u001b[1;33m(\u001b[0m\u001b[0mcreateGraph\u001b[0m\u001b[1;33m(\u001b[0m\u001b[0mblackToWhite\u001b[0m\u001b[1;33m,\u001b[0m \u001b[0mend\u001b[0m \u001b[1;33m=\u001b[0m \u001b[1;36m200\u001b[0m\u001b[1;33m,\u001b[0m \u001b[0mskip\u001b[0m \u001b[1;33m=\u001b[0m \u001b[1;36m10\u001b[0m\u001b[1;33m)\u001b[0m\u001b[1;33m)\u001b[0m\u001b[1;33m\u001b[0m\u001b[1;33m\u001b[0m\u001b[0m\n\u001b[0;32m      6\u001b[0m \u001b[0mprint\u001b[0m\u001b[1;33m(\u001b[0m\u001b[0mcreateGraph\u001b[0m\u001b[1;33m(\u001b[0m\u001b[0mrandomInvert\u001b[0m\u001b[1;33m,\u001b[0m \u001b[0mend\u001b[0m \u001b[1;33m=\u001b[0m \u001b[1;36m200\u001b[0m\u001b[1;33m,\u001b[0m \u001b[0mskip\u001b[0m \u001b[1;33m=\u001b[0m \u001b[1;36m10\u001b[0m\u001b[1;33m)\u001b[0m\u001b[1;33m)\u001b[0m\u001b[1;33m\u001b[0m\u001b[1;33m\u001b[0m\u001b[0m\n",
      "\u001b[1;32m<ipython-input-21-9fe44ceb5048>\u001b[0m in \u001b[0;36mcreateGraph\u001b[1;34m(func, end, skip)\u001b[0m\n\u001b[0;32m      5\u001b[0m     \u001b[0mprint\u001b[0m\u001b[1;33m(\u001b[0m\u001b[0mattackcounts\u001b[0m\u001b[1;33m)\u001b[0m\u001b[1;33m\u001b[0m\u001b[1;33m\u001b[0m\u001b[0m\n\u001b[0;32m      6\u001b[0m     \u001b[1;32mfor\u001b[0m \u001b[0mi\u001b[0m \u001b[1;32min\u001b[0m \u001b[0mrange\u001b[0m\u001b[1;33m(\u001b[0m\u001b[0mcount\u001b[0m\u001b[1;33m)\u001b[0m\u001b[1;33m:\u001b[0m\u001b[1;33m\u001b[0m\u001b[1;33m\u001b[0m\u001b[0m\n\u001b[1;32m----> 7\u001b[1;33m         \u001b[0maccs\u001b[0m\u001b[1;33m.\u001b[0m\u001b[0mappend\u001b[0m\u001b[1;33m(\u001b[0m\u001b[0mfunc\u001b[0m\u001b[1;33m(\u001b[0m\u001b[0mskip\u001b[0m\u001b[1;33m,\u001b[0m \u001b[0mtest\u001b[0m \u001b[1;33m=\u001b[0m \u001b[1;32mTrue\u001b[0m\u001b[1;33m,\u001b[0m \u001b[0mnew\u001b[0m \u001b[1;33m=\u001b[0m \u001b[1;32mFalse\u001b[0m\u001b[1;33m,\u001b[0m \u001b[0mshow_img\u001b[0m \u001b[1;33m=\u001b[0m \u001b[1;32mFalse\u001b[0m\u001b[1;33m)\u001b[0m\u001b[1;33m[\u001b[0m\u001b[1;36m1\u001b[0m\u001b[1;33m]\u001b[0m\u001b[1;33m*\u001b[0m\u001b[1;36m100\u001b[0m\u001b[1;33m)\u001b[0m\u001b[1;33m\u001b[0m\u001b[1;33m\u001b[0m\u001b[0m\n\u001b[0m\u001b[0;32m      8\u001b[0m     \u001b[0maccs\u001b[0m\u001b[1;33m.\u001b[0m\u001b[0minsert\u001b[0m\u001b[1;33m(\u001b[0m\u001b[1;36m0\u001b[0m\u001b[1;33m,\u001b[0m \u001b[1;36m99.2\u001b[0m\u001b[1;33m)\u001b[0m\u001b[1;33m\u001b[0m\u001b[1;33m\u001b[0m\u001b[0m\n\u001b[0;32m      9\u001b[0m     \u001b[0mplt\u001b[0m\u001b[1;33m.\u001b[0m\u001b[0mplot\u001b[0m\u001b[1;33m(\u001b[0m\u001b[0mattackcounts\u001b[0m\u001b[1;33m,\u001b[0m \u001b[0maccs\u001b[0m\u001b[1;33m,\u001b[0m \u001b[1;34m'b-'\u001b[0m\u001b[1;33m)\u001b[0m\u001b[1;33m\u001b[0m\u001b[1;33m\u001b[0m\u001b[0m\n",
      "\u001b[1;32m<ipython-input-18-fd3e72a8a2f7>\u001b[0m in \u001b[0;36mwhiteToBlack\u001b[1;34m(k, test, new, show_img)\u001b[0m\n\u001b[0;32m     21\u001b[0m         \u001b[0mshowimages\u001b[0m\u001b[1;33m(\u001b[0m\u001b[0mresized_WtoB\u001b[0m\u001b[1;33m)\u001b[0m\u001b[1;33m\u001b[0m\u001b[1;33m\u001b[0m\u001b[0m\n\u001b[0;32m     22\u001b[0m     \u001b[1;32mif\u001b[0m \u001b[0mtest\u001b[0m \u001b[1;33m==\u001b[0m \u001b[1;32mTrue\u001b[0m\u001b[1;33m:\u001b[0m\u001b[1;33m\u001b[0m\u001b[1;33m\u001b[0m\u001b[0m\n\u001b[1;32m---> 23\u001b[1;33m         \u001b[0mresult\u001b[0m \u001b[1;33m=\u001b[0m \u001b[0mmodel\u001b[0m\u001b[1;33m.\u001b[0m\u001b[0mevaluate\u001b[0m\u001b[1;33m(\u001b[0m\u001b[0mresized_WtoB\u001b[0m\u001b[1;33m.\u001b[0m\u001b[0mreshape\u001b[0m\u001b[1;33m(\u001b[0m\u001b[1;36m10000\u001b[0m\u001b[1;33m,\u001b[0m \u001b[1;36m56\u001b[0m\u001b[1;33m,\u001b[0m \u001b[1;36m56\u001b[0m\u001b[1;33m,\u001b[0m \u001b[1;36m1\u001b[0m\u001b[1;33m)\u001b[0m\u001b[1;33m,\u001b[0m \u001b[0mtest_gt\u001b[0m\u001b[1;33m,\u001b[0m \u001b[0mverbose\u001b[0m \u001b[1;33m=\u001b[0m \u001b[1;36m0\u001b[0m\u001b[1;33m)\u001b[0m\u001b[1;33m\u001b[0m\u001b[1;33m\u001b[0m\u001b[0m\n\u001b[0m\u001b[0;32m     24\u001b[0m         \u001b[0mprint\u001b[0m\u001b[1;33m(\u001b[0m\u001b[0mresult\u001b[0m\u001b[1;33m)\u001b[0m\u001b[1;33m\u001b[0m\u001b[1;33m\u001b[0m\u001b[0m\n\u001b[0;32m     25\u001b[0m         \u001b[1;32mreturn\u001b[0m \u001b[0mresult\u001b[0m\u001b[1;33m\u001b[0m\u001b[1;33m\u001b[0m\u001b[0m\n",
      "\u001b[1;32mD:\\miniconda\\envs\\tfGPU\\lib\\site-packages\\keras\\engine\\training.py\u001b[0m in \u001b[0;36mevaluate\u001b[1;34m(self, x, y, batch_size, verbose, sample_weight, steps, callbacks, max_queue_size, workers, use_multiprocessing)\u001b[0m\n\u001b[0;32m   1359\u001b[0m                                          \u001b[0mverbose\u001b[0m\u001b[1;33m=\u001b[0m\u001b[0mverbose\u001b[0m\u001b[1;33m,\u001b[0m\u001b[1;33m\u001b[0m\u001b[1;33m\u001b[0m\u001b[0m\n\u001b[0;32m   1360\u001b[0m                                          \u001b[0msteps\u001b[0m\u001b[1;33m=\u001b[0m\u001b[0msteps\u001b[0m\u001b[1;33m,\u001b[0m\u001b[1;33m\u001b[0m\u001b[1;33m\u001b[0m\u001b[0m\n\u001b[1;32m-> 1361\u001b[1;33m                                          callbacks=callbacks)\n\u001b[0m\u001b[0;32m   1362\u001b[0m \u001b[1;33m\u001b[0m\u001b[0m\n\u001b[0;32m   1363\u001b[0m     def predict(self, x,\n",
      "\u001b[1;32mD:\\miniconda\\envs\\tfGPU\\lib\\site-packages\\keras\\engine\\training_arrays.py\u001b[0m in \u001b[0;36mtest_loop\u001b[1;34m(model, f, ins, batch_size, verbose, steps, callbacks)\u001b[0m\n\u001b[0;32m    447\u001b[0m             \u001b[0mbatch_logs\u001b[0m \u001b[1;33m=\u001b[0m \u001b[1;33m{\u001b[0m\u001b[1;34m'batch'\u001b[0m\u001b[1;33m:\u001b[0m \u001b[0mbatch_index\u001b[0m\u001b[1;33m,\u001b[0m \u001b[1;34m'size'\u001b[0m\u001b[1;33m:\u001b[0m \u001b[0mlen\u001b[0m\u001b[1;33m(\u001b[0m\u001b[0mbatch_ids\u001b[0m\u001b[1;33m)\u001b[0m\u001b[1;33m}\u001b[0m\u001b[1;33m\u001b[0m\u001b[1;33m\u001b[0m\u001b[0m\n\u001b[0;32m    448\u001b[0m             \u001b[0mcallbacks\u001b[0m\u001b[1;33m.\u001b[0m\u001b[0m_call_batch_hook\u001b[0m\u001b[1;33m(\u001b[0m\u001b[1;34m'test'\u001b[0m\u001b[1;33m,\u001b[0m \u001b[1;34m'begin'\u001b[0m\u001b[1;33m,\u001b[0m \u001b[0mbatch_index\u001b[0m\u001b[1;33m,\u001b[0m \u001b[0mbatch_logs\u001b[0m\u001b[1;33m)\u001b[0m\u001b[1;33m\u001b[0m\u001b[1;33m\u001b[0m\u001b[0m\n\u001b[1;32m--> 449\u001b[1;33m             \u001b[0mbatch_outs\u001b[0m \u001b[1;33m=\u001b[0m \u001b[0mf\u001b[0m\u001b[1;33m(\u001b[0m\u001b[0mins_batch\u001b[0m\u001b[1;33m)\u001b[0m\u001b[1;33m\u001b[0m\u001b[1;33m\u001b[0m\u001b[0m\n\u001b[0m\u001b[0;32m    450\u001b[0m             \u001b[1;32mif\u001b[0m \u001b[0misinstance\u001b[0m\u001b[1;33m(\u001b[0m\u001b[0mbatch_outs\u001b[0m\u001b[1;33m,\u001b[0m \u001b[0mlist\u001b[0m\u001b[1;33m)\u001b[0m\u001b[1;33m:\u001b[0m\u001b[1;33m\u001b[0m\u001b[1;33m\u001b[0m\u001b[0m\n\u001b[0;32m    451\u001b[0m                 \u001b[1;32mif\u001b[0m \u001b[0mbatch_index\u001b[0m \u001b[1;33m==\u001b[0m \u001b[1;36m0\u001b[0m\u001b[1;33m:\u001b[0m\u001b[1;33m\u001b[0m\u001b[1;33m\u001b[0m\u001b[0m\n",
      "\u001b[1;32mD:\\miniconda\\envs\\tfGPU\\lib\\site-packages\\tensorflow_core\\python\\keras\\backend.py\u001b[0m in \u001b[0;36m__call__\u001b[1;34m(self, inputs)\u001b[0m\n\u001b[0;32m   3725\u001b[0m         \u001b[0mvalue\u001b[0m \u001b[1;33m=\u001b[0m \u001b[0mmath_ops\u001b[0m\u001b[1;33m.\u001b[0m\u001b[0mcast\u001b[0m\u001b[1;33m(\u001b[0m\u001b[0mvalue\u001b[0m\u001b[1;33m,\u001b[0m \u001b[0mtensor\u001b[0m\u001b[1;33m.\u001b[0m\u001b[0mdtype\u001b[0m\u001b[1;33m)\u001b[0m\u001b[1;33m\u001b[0m\u001b[1;33m\u001b[0m\u001b[0m\n\u001b[0;32m   3726\u001b[0m       \u001b[0mconverted_inputs\u001b[0m\u001b[1;33m.\u001b[0m\u001b[0mappend\u001b[0m\u001b[1;33m(\u001b[0m\u001b[0mvalue\u001b[0m\u001b[1;33m)\u001b[0m\u001b[1;33m\u001b[0m\u001b[1;33m\u001b[0m\u001b[0m\n\u001b[1;32m-> 3727\u001b[1;33m     \u001b[0moutputs\u001b[0m \u001b[1;33m=\u001b[0m \u001b[0mself\u001b[0m\u001b[1;33m.\u001b[0m\u001b[0m_graph_fn\u001b[0m\u001b[1;33m(\u001b[0m\u001b[1;33m*\u001b[0m\u001b[0mconverted_inputs\u001b[0m\u001b[1;33m)\u001b[0m\u001b[1;33m\u001b[0m\u001b[1;33m\u001b[0m\u001b[0m\n\u001b[0m\u001b[0;32m   3728\u001b[0m \u001b[1;33m\u001b[0m\u001b[0m\n\u001b[0;32m   3729\u001b[0m     \u001b[1;31m# EagerTensor.numpy() will often make a copy to ensure memory safety.\u001b[0m\u001b[1;33m\u001b[0m\u001b[1;33m\u001b[0m\u001b[1;33m\u001b[0m\u001b[0m\n",
      "\u001b[1;32mD:\\miniconda\\envs\\tfGPU\\lib\\site-packages\\tensorflow_core\\python\\eager\\function.py\u001b[0m in \u001b[0;36m__call__\u001b[1;34m(self, *args, **kwargs)\u001b[0m\n\u001b[0;32m   1549\u001b[0m       \u001b[0mTypeError\u001b[0m\u001b[1;33m:\u001b[0m \u001b[0mFor\u001b[0m \u001b[0minvalid\u001b[0m \u001b[0mpositional\u001b[0m\u001b[1;33m/\u001b[0m\u001b[0mkeyword\u001b[0m \u001b[0margument\u001b[0m \u001b[0mcombinations\u001b[0m\u001b[1;33m.\u001b[0m\u001b[1;33m\u001b[0m\u001b[1;33m\u001b[0m\u001b[0m\n\u001b[0;32m   1550\u001b[0m     \"\"\"\n\u001b[1;32m-> 1551\u001b[1;33m     \u001b[1;32mreturn\u001b[0m \u001b[0mself\u001b[0m\u001b[1;33m.\u001b[0m\u001b[0m_call_impl\u001b[0m\u001b[1;33m(\u001b[0m\u001b[0margs\u001b[0m\u001b[1;33m,\u001b[0m \u001b[0mkwargs\u001b[0m\u001b[1;33m)\u001b[0m\u001b[1;33m\u001b[0m\u001b[1;33m\u001b[0m\u001b[0m\n\u001b[0m\u001b[0;32m   1552\u001b[0m \u001b[1;33m\u001b[0m\u001b[0m\n\u001b[0;32m   1553\u001b[0m   \u001b[1;32mdef\u001b[0m \u001b[0m_call_impl\u001b[0m\u001b[1;33m(\u001b[0m\u001b[0mself\u001b[0m\u001b[1;33m,\u001b[0m \u001b[0margs\u001b[0m\u001b[1;33m,\u001b[0m \u001b[0mkwargs\u001b[0m\u001b[1;33m,\u001b[0m \u001b[0mcancellation_manager\u001b[0m\u001b[1;33m=\u001b[0m\u001b[1;32mNone\u001b[0m\u001b[1;33m)\u001b[0m\u001b[1;33m:\u001b[0m\u001b[1;33m\u001b[0m\u001b[1;33m\u001b[0m\u001b[0m\n",
      "\u001b[1;32mD:\\miniconda\\envs\\tfGPU\\lib\\site-packages\\tensorflow_core\\python\\eager\\function.py\u001b[0m in \u001b[0;36m_call_impl\u001b[1;34m(self, args, kwargs, cancellation_manager)\u001b[0m\n\u001b[0;32m   1589\u001b[0m       raise TypeError(\"Keyword arguments {} unknown. Expected {}.\".format(\n\u001b[0;32m   1590\u001b[0m           list(kwargs.keys()), list(self._arg_keywords)))\n\u001b[1;32m-> 1591\u001b[1;33m     \u001b[1;32mreturn\u001b[0m \u001b[0mself\u001b[0m\u001b[1;33m.\u001b[0m\u001b[0m_call_flat\u001b[0m\u001b[1;33m(\u001b[0m\u001b[0margs\u001b[0m\u001b[1;33m,\u001b[0m \u001b[0mself\u001b[0m\u001b[1;33m.\u001b[0m\u001b[0mcaptured_inputs\u001b[0m\u001b[1;33m,\u001b[0m \u001b[0mcancellation_manager\u001b[0m\u001b[1;33m)\u001b[0m\u001b[1;33m\u001b[0m\u001b[1;33m\u001b[0m\u001b[0m\n\u001b[0m\u001b[0;32m   1592\u001b[0m \u001b[1;33m\u001b[0m\u001b[0m\n\u001b[0;32m   1593\u001b[0m   \u001b[1;32mdef\u001b[0m \u001b[0m_filtered_call\u001b[0m\u001b[1;33m(\u001b[0m\u001b[0mself\u001b[0m\u001b[1;33m,\u001b[0m \u001b[0margs\u001b[0m\u001b[1;33m,\u001b[0m \u001b[0mkwargs\u001b[0m\u001b[1;33m)\u001b[0m\u001b[1;33m:\u001b[0m\u001b[1;33m\u001b[0m\u001b[1;33m\u001b[0m\u001b[0m\n",
      "\u001b[1;32mD:\\miniconda\\envs\\tfGPU\\lib\\site-packages\\tensorflow_core\\python\\eager\\function.py\u001b[0m in \u001b[0;36m_call_flat\u001b[1;34m(self, args, captured_inputs, cancellation_manager)\u001b[0m\n\u001b[0;32m   1690\u001b[0m       \u001b[1;31m# No tape is watching; skip to running the function.\u001b[0m\u001b[1;33m\u001b[0m\u001b[1;33m\u001b[0m\u001b[1;33m\u001b[0m\u001b[0m\n\u001b[0;32m   1691\u001b[0m       return self._build_call_outputs(self._inference_function.call(\n\u001b[1;32m-> 1692\u001b[1;33m           ctx, args, cancellation_manager=cancellation_manager))\n\u001b[0m\u001b[0;32m   1693\u001b[0m     forward_backward = self._select_forward_and_backward_functions(\n\u001b[0;32m   1694\u001b[0m         \u001b[0margs\u001b[0m\u001b[1;33m,\u001b[0m\u001b[1;33m\u001b[0m\u001b[1;33m\u001b[0m\u001b[0m\n",
      "\u001b[1;32mD:\\miniconda\\envs\\tfGPU\\lib\\site-packages\\tensorflow_core\\python\\eager\\function.py\u001b[0m in \u001b[0;36mcall\u001b[1;34m(self, ctx, args, cancellation_manager)\u001b[0m\n\u001b[0;32m    543\u001b[0m               \u001b[0minputs\u001b[0m\u001b[1;33m=\u001b[0m\u001b[0margs\u001b[0m\u001b[1;33m,\u001b[0m\u001b[1;33m\u001b[0m\u001b[1;33m\u001b[0m\u001b[0m\n\u001b[0;32m    544\u001b[0m               \u001b[0mattrs\u001b[0m\u001b[1;33m=\u001b[0m\u001b[1;33m(\u001b[0m\u001b[1;34m\"executor_type\"\u001b[0m\u001b[1;33m,\u001b[0m \u001b[0mexecutor_type\u001b[0m\u001b[1;33m,\u001b[0m \u001b[1;34m\"config_proto\"\u001b[0m\u001b[1;33m,\u001b[0m \u001b[0mconfig\u001b[0m\u001b[1;33m)\u001b[0m\u001b[1;33m,\u001b[0m\u001b[1;33m\u001b[0m\u001b[1;33m\u001b[0m\u001b[0m\n\u001b[1;32m--> 545\u001b[1;33m               ctx=ctx)\n\u001b[0m\u001b[0;32m    546\u001b[0m         \u001b[1;32melse\u001b[0m\u001b[1;33m:\u001b[0m\u001b[1;33m\u001b[0m\u001b[1;33m\u001b[0m\u001b[0m\n\u001b[0;32m    547\u001b[0m           outputs = execute.execute_with_cancellation(\n",
      "\u001b[1;32mD:\\miniconda\\envs\\tfGPU\\lib\\site-packages\\tensorflow_core\\python\\eager\\execute.py\u001b[0m in \u001b[0;36mquick_execute\u001b[1;34m(op_name, num_outputs, inputs, attrs, ctx, name)\u001b[0m\n\u001b[0;32m     59\u001b[0m     tensors = pywrap_tensorflow.TFE_Py_Execute(ctx._handle, device_name,\n\u001b[0;32m     60\u001b[0m                                                \u001b[0mop_name\u001b[0m\u001b[1;33m,\u001b[0m \u001b[0minputs\u001b[0m\u001b[1;33m,\u001b[0m \u001b[0mattrs\u001b[0m\u001b[1;33m,\u001b[0m\u001b[1;33m\u001b[0m\u001b[1;33m\u001b[0m\u001b[0m\n\u001b[1;32m---> 61\u001b[1;33m                                                num_outputs)\n\u001b[0m\u001b[0;32m     62\u001b[0m   \u001b[1;32mexcept\u001b[0m \u001b[0mcore\u001b[0m\u001b[1;33m.\u001b[0m\u001b[0m_NotOkStatusException\u001b[0m \u001b[1;32mas\u001b[0m \u001b[0me\u001b[0m\u001b[1;33m:\u001b[0m\u001b[1;33m\u001b[0m\u001b[1;33m\u001b[0m\u001b[0m\n\u001b[0;32m     63\u001b[0m     \u001b[1;32mif\u001b[0m \u001b[0mname\u001b[0m \u001b[1;32mis\u001b[0m \u001b[1;32mnot\u001b[0m \u001b[1;32mNone\u001b[0m\u001b[1;33m:\u001b[0m\u001b[1;33m\u001b[0m\u001b[1;33m\u001b[0m\u001b[0m\n",
      "\u001b[1;31mKeyboardInterrupt\u001b[0m: "
     ]
    }
   ],
   "source": [
    "refresh()\n",
    "model = load_model('models/resnet152_96.h5')\n",
    "print(createGraph(outline, end = 200, skip = 10))\n",
    "print(createGraph(whiteToBlack, end = 200, skip = 10))\n",
    "print(createGraph(blackToWhite, end = 200, skip = 10))\n",
    "print(createGraph(randomInvert, end = 200, skip = 10))\n",
    "print(createGraph(edgeToAlter, end = 200, skip = 10))"
   ]
  },
  {
   "cell_type": "code",
   "execution_count": 121,
   "metadata": {},
   "outputs": [],
   "source": [
    "whiteToBlack(1, test = False, model='', new = True, show_img = False)"
   ]
  },
  {
   "cell_type": "code",
   "execution_count": 119,
   "metadata": {},
   "outputs": [
    {
     "data": {
      "text/plain": [
       "<matplotlib.image.AxesImage at 0x24e3ee92908>"
      ]
     },
     "execution_count": 119,
     "metadata": {},
     "output_type": "execute_result"
    },
    {
     "data": {
      "image/png": "[encoded data removed]",
      "text/plain": [
       "<Figure size 432x288 with 1 Axes>"
      ]
     },
     "metadata": {
      "needs_background": "light"
     },
     "output_type": "display_data"
    }
   ],
   "source": [
    "n=4\n",
    "plt.imshow(w_to_b_ray[n], cmap='gray')"
   ]
  },
  {
   "cell_type": "code",
   "execution_count": 113,
   "metadata": {},
   "outputs": [],
   "source": [
    "resnet50 = load_model('models/resnet_99.h5')"
   ]
  },
  {
   "cell_type": "code",
   "execution_count": null,
   "metadata": {},
   "outputs": [
    {
     "name": "stdout",
     "output_type": "stream",
     "text": [
      "3\n"
     ]
    }
   ],
   "source": [
    "c = 2\n",
    "found = False\n",
    "while found == False:\n",
    "    whiteToBlack(c, test = False, model='', new = True, show_img = False)\n",
    "    for i in range(len(b_to_w_ray)):\n",
    "        if np.argmax(resnet50.predict(x_test_norm[n].reshape(1, 56, 56, 1))) != np.argmax(resnet50.predict(cv2.resize(w_to_b_ray[n], dsize=(56, 56), interpolation=cv2.INTER_AREA).reshape(1, 56, 56, 1))):\n",
    "            print(str(i) + ' index')\n",
    "            found = True\n",
    "    c += 1\n",
    "    print(c)"
   ]
  },
  {
   "cell_type": "code",
   "execution_count": 86,
   "metadata": {},
   "outputs": [
    {
     "data": {
      "text/plain": [
       "1"
      ]
     },
     "execution_count": 86,
     "metadata": {},
     "output_type": "execute_result"
    }
   ],
   "source": [
    "print(np.argmax(vgg.predict(x_test_norm[n].reshape(1, 56, 56, 1))))\n",
    "print(np.argmax(vgg.predict(cv2.resize(w_to_b_ray[n], dsize=(56, 56), interpolation=cv2.INTER_LINEAR).reshape(1, 56, 56, 1))))"
   ]
  },
  {
   "cell_type": "code",
   "execution_count": null,
   "metadata": {},
   "outputs": [],
   "source": []
  }
 ],
 "metadata": {
  "kernelspec": {
   "display_name": "tfGPU",
   "language": "python",
   "name": "tfgpu"
  },
  "language_info": {
   "codemirror_mode": {
    "name": "ipython",
    "version": 3
   },
   "file_extension": ".py",
   "mimetype": "text/x-python",
   "name": "python",
   "nbconvert_exporter": "python",
   "pygments_lexer": "ipython3",
   "version": "3.7.6"
  }
 },
 "nbformat": 4,
 "nbformat_minor": 4
}
