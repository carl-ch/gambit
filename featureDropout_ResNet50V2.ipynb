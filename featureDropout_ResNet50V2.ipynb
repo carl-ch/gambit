{
 "cells": [
  {
   "cell_type": "code",
   "execution_count": 1,
   "metadata": {},
   "outputs": [
    {
     "name": "stderr",
     "output_type": "stream",
     "text": [
      "Using TensorFlow backend.\n"
     ]
    }
   ],
   "source": [
    "import numpy as np\n",
    "import tensorflow as tf\n",
    "import cv2\n",
    "import keras\n",
    "from keras import layers\n",
    "from keras import optimizers\n",
    "from keras.layers import Input, Lambda, Add, Dense, Activation, ZeroPadding2D, BatchNormalization, Flatten, AlphaDropout\n",
    "from keras.layers import Conv2D, SpatialDropout2D, AveragePooling2D, MaxPooling2D, GlobalAveragePooling2D, GlobalMaxPooling2D, GlobalMaxPooling2D, Dropout\n",
    "from keras.models import Model, load_model\n",
    "from keras.callbacks import ModelCheckpoint, LearningRateScheduler, ReduceLROnPlateau\n",
    "from keras.utils import plot_model\n",
    "import keras.backend as K\n",
    "from keras.applications import resnet, resnet_v2, vgg16, vgg19\n",
    "from keras.datasets import mnist\n",
    "from keras.utils import to_categorical"
   ]
  },
  {
   "cell_type": "code",
   "execution_count": 2,
   "metadata": {},
   "outputs": [],
   "source": [
    "(x_tr, y_tr), (x_test_norm, y_test_norm) = mnist.load_data()\n",
    "x_tr = np.asarray([cv2.resize(a, (56, 56), interpolation = cv2.INTER_LINEAR) for a in x_tr])\n",
    "x_test_norm = np.asarray([cv2.resize(a, (56, 56), interpolation = cv2.INTER_LINEAR) for a in x_test_norm])"
   ]
  },
  {
   "cell_type": "code",
   "execution_count": 3,
   "metadata": {},
   "outputs": [],
   "source": [
    "x_tr = x_tr.reshape(60000, 56, 56, 1)\n",
    "x_test_norm = x_test_norm.reshape(10000, 56, 56, 1)\n",
    "y_tr = to_categorical(y_tr)\n",
    "y_test_norm = to_categorical(y_test_norm)"
   ]
  },
  {
   "cell_type": "code",
   "execution_count": 6,
   "metadata": {},
   "outputs": [],
   "source": [
    "base_model=resnet_v2.ResNet50V2(include_top=False, input_shape = (56, 56, 1), weights=None, pooling='avg')\n",
    "\n",
    "last = base_model.layers[-1]\n",
    "second = base_model.layers[-2]\n",
    "\n",
    "# x = SpatialDropout2D(0.5)(second.output)\n",
    "# x = last(x)\n",
    "x = Dense(10, activation = 'softmax')(last.output)\n",
    "\n",
    "new_model = Model(inputs=base_model.input, outputs=x)"
   ]
  },
  {
   "cell_type": "code",
   "execution_count": 10,
   "metadata": {},
   "outputs": [],
   "source": [
    "optimizer = keras.optimizers.SGD(lr=0.001, momentum = 0.9, nesterov = True)\n",
    "new_model.compile(optimizer, loss=keras.losses.categorical_crossentropy, metrics=['accuracy'])"
   ]
  },
  {
   "cell_type": "code",
   "execution_count": null,
   "metadata": {},
   "outputs": [],
   "source": [
    "new_model.fit(x_tr, y_tr, validation_data = (x_test_norm, y_test_norm), batch_size=32, epochs=2)"
   ]
  },
  {
   "cell_type": "code",
   "execution_count": 12,
   "metadata": {},
   "outputs": [
    {
     "name": "stdout",
     "output_type": "stream",
     "text": [
      "10000/10000 [==============================] - 8s 813us/step\n"
     ]
    },
    {
     "data": {
      "text/plain": [
       "[0.019084783305926247, 0.9930999875068665]"
      ]
     },
     "execution_count": 12,
     "metadata": {},
     "output_type": "execute_result"
    }
   ],
   "source": [
    "new_model.evaluate(x_test_norm, y_test_norm)"
   ]
  },
  {
   "cell_type": "code",
   "execution_count": 14,
   "metadata": {},
   "outputs": [],
   "source": [
    "# new_model.save('models/resnetv2_99.h5')"
   ]
  },
  {
   "cell_type": "code",
   "execution_count": 4,
   "metadata": {},
   "outputs": [],
   "source": [
    "new_model = load_model('models/resnetv2_99.h5')"
   ]
  },
  {
   "cell_type": "code",
   "execution_count": 6,
   "metadata": {},
   "outputs": [
    {
     "name": "stdout",
     "output_type": "stream",
     "text": [
      "10000/10000 [==============================] - 9s 900us/step\n"
     ]
    },
    {
     "data": {
      "text/plain": [
       "[0.022550889069284312, 0.9922000169754028]"
      ]
     },
     "execution_count": 6,
     "metadata": {},
     "output_type": "execute_result"
    }
   ],
   "source": [
    "import pandas as pd\n",
    "attacktest = pd.read_csv('whitetoblack.csv', header=None)\n",
    "attacktest = attacktest.to_numpy()\n",
    "attacktest = attacktest.reshape(10000, 56, 56, 1)\n",
    "new_model.evaluate(attacktest, y_test_norm)"
   ]
  },
  {
   "cell_type": "code",
   "execution_count": null,
   "metadata": {},
   "outputs": [],
   "source": []
  }
 ],
 "metadata": {
  "kernelspec": {
   "display_name": "tfGPU",
   "language": "python",
   "name": "tfgpu"
  },
  "language_info": {
   "codemirror_mode": {
    "name": "ipython",
    "version": 3
   },
   "file_extension": ".py",
   "mimetype": "text/x-python",
   "name": "python",
   "nbconvert_exporter": "python",
   "pygments_lexer": "ipython3",
   "version": "3.7.6"
  }
 },
 "nbformat": 4,
 "nbformat_minor": 4
}
