{
 "cells": [
  {
   "cell_type": "code",
   "execution_count": 2,
   "metadata": {},
   "outputs": [
    {
     "name": "stderr",
     "output_type": "stream",
     "text": [
      "Using TensorFlow backend.\n"
     ]
    }
   ],
   "source": [
    "import numpy as np\n",
    "import tensorflow as tf\n",
    "import cv2\n",
    "import keras\n",
    "from keras import layers\n",
    "from keras import optimizers \n",
    "from keras.layers import Input, Lambda, Add, Dense, Activation, ZeroPadding2D, BatchNormalization, Flatten, AlphaDropout\n",
    "from keras.layers import Conv2D, SpatialDropout2D, GlobalAveragePooling2D, MaxPooling2D, GlobalAveragePooling2D, GlobalMaxPooling2D, GlobalMaxPooling2D, Dropout\n",
    "from keras.models import Model, load_model\n",
    "from keras.callbacks import ModelCheckpoint, LearningRateScheduler, ReduceLROnPlateau\n",
    "from keras.utils import plot_model\n",
    "import keras.backend as K \n",
    "from keras.applications import resnet, resnet_v2, vgg16, vgg19\n",
    "from keras.datasets import mnist\n",
    "from keras.utils import to_categorical"
   ]
  },
  {
   "cell_type": "code",
   "execution_count": 3,
   "metadata": {},
   "outputs": [],
   "source": [
    "(x_tr, y_tr), (x_test_norm, y_test_norm) = mnist.load_data()\n",
    "x_tr = np.asarray([cv2.resize(a, (56, 56), interpolation = cv2.INTER_LINEAR) for a in x_tr])\n",
    "x_test_norm = np.asarray([cv2.resize(a, (56, 56), interpolation = cv2.INTER_LINEAR) for a in x_test_norm])"
   ]
  },
  {
   "cell_type": "code",
   "execution_count": 4,
   "metadata": {},
   "outputs": [],
   "source": [
    "x_tr = x_tr.reshape(60000, 56, 56, 1)\n",
    "x_test_norm = x_test_norm.reshape(10000, 56, 56, 1)\n",
    "y_tr = to_categorical(y_tr)\n",
    "y_test_norm = to_categorical(y_test_norm)"
   ]
  },
  {
   "cell_type": "code",
   "execution_count": 5,
   "metadata": {},
   "outputs": [],
   "source": [
    "from classification_models.keras import Classifiers\n",
    "\n",
    "# for tensorflow.keras\n",
    "# from classification_models.tfkeras import Classifiers\n",
    "\n",
    "ResNet34, preprocess_input = Classifiers.get('resnet18')\n",
    "base = ResNet34(input_shape=(56, 56, 1), include_top=False, weights=None, pooling='avg')\n",
    "\n",
    "last = base.layers[-1]\n",
    "\n",
    "x = GlobalAveragePooling2D()(last.output)\n",
    "x = Dense(10, activation = 'softmax')(x)\n",
    "resnet18 = Model(inputs = base.input, outputs = x)"
   ]
  },
  {
   "cell_type": "code",
   "execution_count": 16,
   "metadata": {},
   "outputs": [],
   "source": [
    "# # base_model101=resnet.ResNet101(input_shape=(56, 56, 1), include_top=False, weights=None, pooling='avg')\n",
    "# base_model152=resnet.ResNet152(input_shape=(56, 56, 1), include_top=False, weights=None, pooling='avg')\n",
    "\n",
    "# # last101 = base_model101.layers[-1]\n",
    "\n",
    "# last152 = base_model152.layers[-1]\n",
    "\n",
    "# # x101 = Dense(10, activation = 'softmax')(last101.output)\n",
    "# x152 = Dense(10, activation = 'softmax', kernel_regularizer=keras.regularizers.l2(0.0001))(last152.output)\n",
    "\n",
    "# # model101 = Model(inputs=base_model101.input, outputs=x101)\n",
    "# model152 = Model(inputs=base_model152.input, outputs=x152)"
   ]
  },
  {
   "cell_type": "code",
   "execution_count": 9,
   "metadata": {},
   "outputs": [],
   "source": [
    "resnet18.compile(keras.optimizers.SGD(lr=0.001, momentum = 0.9, nesterov = True), loss=keras.losses.categorical_crossentropy, metrics=['accuracy'])"
   ]
  },
  {
   "cell_type": "code",
   "execution_count": 11,
   "metadata": {},
   "outputs": [
    {
     "name": "stdout",
     "output_type": "stream",
     "text": [
      "Train on 60000 samples, validate on 10000 samples\n",
      "Epoch 1/1\n",
      "60000/60000 [==============================] - 55s 916us/step - loss: 0.0200 - accuracy: 0.9948 - val_loss: 0.0285 - val_accuracy: 0.9904\n"
     ]
    },
    {
     "data": {
      "text/plain": [
       "<keras.callbacks.callbacks.History at 0x1f0af50d488>"
      ]
     },
     "execution_count": 11,
     "metadata": {},
     "output_type": "execute_result"
    }
   ],
   "source": [
    "resnet18.fit(x_tr, y_tr, validation_data = (x_test_norm, y_test_norm), batch_size=128, epochs=1)"
   ]
  },
  {
   "cell_type": "code",
   "execution_count": 12,
   "metadata": {},
   "outputs": [],
   "source": [
    "resnet18.save('models/resnet34_99.h5')"
   ]
  },
  {
   "cell_type": "code",
   "execution_count": 5,
   "metadata": {},
   "outputs": [],
   "source": [
    "model = load_model('nodropoutresnet1.h5')"
   ]
  },
  {
   "cell_type": "code",
   "execution_count": 19,
   "metadata": {},
   "outputs": [
    {
     "name": "stdout",
     "output_type": "stream",
     "text": [
      "10000/10000 [==============================] - 10s 1ms/step\n"
     ]
    },
    {
     "data": {
      "text/plain": [
       "[0.02154317032408435, 0.9925000071525574]"
      ]
     },
     "execution_count": 19,
     "metadata": {},
     "output_type": "execute_result"
    }
   ],
   "source": [
    "model.evaluate(x_test_norm, y_test_norm)"
   ]
  },
  {
   "cell_type": "markdown",
   "metadata": {},
   "source": [
    "from IPython.display import Image \n",
    "\n",
    "im = cv2.imread('mnist test number.png')\n",
    "\n",
    "gray = cv2.cvtColor(im, cv2.COLOR_BGR2GRAY)\n",
    "im = cv2.resize(gray, (56, 56), interpolation = cv2.INTER_LINEAR).reshape(1,56,56,1)\n",
    "pred1 = model.predict(im)\n",
    "print('The number is: ', np.argmax(pred1))"
   ]
  },
  {
   "cell_type": "code",
   "execution_count": null,
   "metadata": {},
   "outputs": [],
   "source": []
  }
 ],
 "metadata": {
  "kernelspec": {
   "display_name": "tfGPU",
   "language": "python",
   "name": "tfgpu"
  },
  "language_info": {
   "codemirror_mode": {
    "name": "ipython",
    "version": 3
   },
   "file_extension": ".py",
   "mimetype": "text/x-python",
   "name": "python",
   "nbconvert_exporter": "python",
   "pygments_lexer": "ipython3",
   "version": "3.7.6"
  }
 },
 "nbformat": 4,
 "nbformat_minor": 4
}
